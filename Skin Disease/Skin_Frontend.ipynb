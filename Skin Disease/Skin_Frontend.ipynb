{
  "nbformat": 4,
  "nbformat_minor": 0,
  "metadata": {
    "colab": {
      "name": "Skin_Frontend.ipynb",
      "provenance": [],
      "collapsed_sections": []
    },
    "kernelspec": {
      "name": "python3",
      "display_name": "Python 3"
    },
    "accelerator": "GPU"
  },
  "cells": [
    {
      "cell_type": "code",
      "metadata": {
        "id": "5al6BSTbv4fs"
      },
      "source": [
        "!pip install streamlit"
      ],
      "execution_count": null,
      "outputs": []
    },
    {
      "cell_type": "code",
      "metadata": {
        "id": "Cp8Sime5znKK",
        "colab": {
          "base_uri": "https://localhost:8080/"
        },
        "outputId": "90fb0d0d-eec3-40aa-b733-a008d7e57ab6"
      },
      "source": [
        "pip install twilio"
      ],
      "execution_count": 1,
      "outputs": [
        {
          "output_type": "stream",
          "text": [
            "Collecting twilio\n",
            "\u001b[?25l  Downloading https://files.pythonhosted.org/packages/c7/c2/aad9b42e2513a09b10630558a392d557d193feeece1b1d0bb3154b4d4c13/twilio-6.53.0.tar.gz (470kB)\n",
            "\r\u001b[K     |▊                               | 10kB 27.0MB/s eta 0:00:01\r\u001b[K     |█▍                              | 20kB 20.1MB/s eta 0:00:01\r\u001b[K     |██                              | 30kB 16.5MB/s eta 0:00:01\r\u001b[K     |██▉                             | 40kB 14.5MB/s eta 0:00:01\r\u001b[K     |███▌                            | 51kB 9.3MB/s eta 0:00:01\r\u001b[K     |████▏                           | 61kB 10.8MB/s eta 0:00:01\r\u001b[K     |████▉                           | 71kB 10.1MB/s eta 0:00:01\r\u001b[K     |█████▋                          | 81kB 11.1MB/s eta 0:00:01\r\u001b[K     |██████▎                         | 92kB 10.6MB/s eta 0:00:01\r\u001b[K     |███████                         | 102kB 9.1MB/s eta 0:00:01\r\u001b[K     |███████▋                        | 112kB 9.1MB/s eta 0:00:01\r\u001b[K     |████████▍                       | 122kB 9.1MB/s eta 0:00:01\r\u001b[K     |█████████                       | 133kB 9.1MB/s eta 0:00:01\r\u001b[K     |█████████▊                      | 143kB 9.1MB/s eta 0:00:01\r\u001b[K     |██████████▌                     | 153kB 9.1MB/s eta 0:00:01\r\u001b[K     |███████████▏                    | 163kB 9.1MB/s eta 0:00:01\r\u001b[K     |███████████▉                    | 174kB 9.1MB/s eta 0:00:01\r\u001b[K     |████████████▌                   | 184kB 9.1MB/s eta 0:00:01\r\u001b[K     |█████████████▎                  | 194kB 9.1MB/s eta 0:00:01\r\u001b[K     |██████████████                  | 204kB 9.1MB/s eta 0:00:01\r\u001b[K     |██████████████▋                 | 215kB 9.1MB/s eta 0:00:01\r\u001b[K     |███████████████▎                | 225kB 9.1MB/s eta 0:00:01\r\u001b[K     |████████████████                | 235kB 9.1MB/s eta 0:00:01\r\u001b[K     |████████████████▊               | 245kB 9.1MB/s eta 0:00:01\r\u001b[K     |█████████████████▍              | 256kB 9.1MB/s eta 0:00:01\r\u001b[K     |██████████████████▏             | 266kB 9.1MB/s eta 0:00:01\r\u001b[K     |██████████████████▉             | 276kB 9.1MB/s eta 0:00:01\r\u001b[K     |███████████████████▌            | 286kB 9.1MB/s eta 0:00:01\r\u001b[K     |████████████████████▏           | 296kB 9.1MB/s eta 0:00:01\r\u001b[K     |█████████████████████           | 307kB 9.1MB/s eta 0:00:01\r\u001b[K     |█████████████████████▋          | 317kB 9.1MB/s eta 0:00:01\r\u001b[K     |██████████████████████▎         | 327kB 9.1MB/s eta 0:00:01\r\u001b[K     |███████████████████████         | 337kB 9.1MB/s eta 0:00:01\r\u001b[K     |███████████████████████▊        | 348kB 9.1MB/s eta 0:00:01\r\u001b[K     |████████████████████████▍       | 358kB 9.1MB/s eta 0:00:01\r\u001b[K     |█████████████████████████       | 368kB 9.1MB/s eta 0:00:01\r\u001b[K     |█████████████████████████▊      | 378kB 9.1MB/s eta 0:00:01\r\u001b[K     |██████████████████████████▌     | 389kB 9.1MB/s eta 0:00:01\r\u001b[K     |███████████████████████████▏    | 399kB 9.1MB/s eta 0:00:01\r\u001b[K     |███████████████████████████▉    | 409kB 9.1MB/s eta 0:00:01\r\u001b[K     |████████████████████████████▋   | 419kB 9.1MB/s eta 0:00:01\r\u001b[K     |█████████████████████████████▎  | 430kB 9.1MB/s eta 0:00:01\r\u001b[K     |██████████████████████████████  | 440kB 9.1MB/s eta 0:00:01\r\u001b[K     |██████████████████████████████▋ | 450kB 9.1MB/s eta 0:00:01\r\u001b[K     |███████████████████████████████▍| 460kB 9.1MB/s eta 0:00:01\r\u001b[K     |████████████████████████████████| 471kB 9.1MB/s \n",
            "\u001b[?25hRequirement already satisfied: six in /usr/local/lib/python3.7/dist-packages (from twilio) (1.15.0)\n",
            "Requirement already satisfied: pytz in /usr/local/lib/python3.7/dist-packages (from twilio) (2018.9)\n",
            "Collecting PyJWT==1.7.1\n",
            "  Downloading https://files.pythonhosted.org/packages/87/8b/6a9f14b5f781697e51259d81657e6048fd31a113229cf346880bb7545565/PyJWT-1.7.1-py2.py3-none-any.whl\n",
            "Requirement already satisfied: requests>=2.0.0 in /usr/local/lib/python3.7/dist-packages (from twilio) (2.23.0)\n",
            "Requirement already satisfied: certifi>=2017.4.17 in /usr/local/lib/python3.7/dist-packages (from requests>=2.0.0->twilio) (2020.12.5)\n",
            "Requirement already satisfied: urllib3!=1.25.0,!=1.25.1,<1.26,>=1.21.1 in /usr/local/lib/python3.7/dist-packages (from requests>=2.0.0->twilio) (1.24.3)\n",
            "Requirement already satisfied: idna<3,>=2.5 in /usr/local/lib/python3.7/dist-packages (from requests>=2.0.0->twilio) (2.10)\n",
            "Requirement already satisfied: chardet<4,>=3.0.2 in /usr/local/lib/python3.7/dist-packages (from requests>=2.0.0->twilio) (3.0.4)\n",
            "Building wheels for collected packages: twilio\n",
            "  Building wheel for twilio (setup.py) ... \u001b[?25l\u001b[?25hdone\n",
            "  Created wheel for twilio: filename=twilio-6.53.0-py2.py3-none-any.whl size=1251197 sha256=bfabcbfef481c3e4f5bc305204fec792d9af41c333dfbafc13d9b5f994fc9705\n",
            "  Stored in directory: /root/.cache/pip/wheels/80/92/b0/f7fcc5d56edd9d23fe35c73400c6f600aefe736e05a9e70806\n",
            "Successfully built twilio\n",
            "Installing collected packages: PyJWT, twilio\n",
            "Successfully installed PyJWT-1.7.1 twilio-6.53.0\n"
          ],
          "name": "stdout"
        }
      ]
    },
    {
      "cell_type": "code",
      "metadata": {
        "colab": {
          "base_uri": "https://localhost:8080/"
        },
        "id": "RDO-FlNAwD1x",
        "outputId": "5434c240-24e9-4283-b18e-c34bed8992fa"
      },
      "source": [
        "%%writefile app.py\r\n",
        "import streamlit as st\r\n",
        "import tensorflow as tf\r\n",
        "\r\n",
        "st.set_option('deprecation.showfileUploaderEncoding', False)\r\n",
        "@st.cache(allow_output_mutation=True)\r\n",
        "def load_model():\r\n",
        "  model=tf.keras.models.load_model('/content/drive/MyDrive/Hackathon App/SkinDisease.h5')\r\n",
        "  return model\r\n",
        "model=load_model()\r\n",
        "st.write(\"\"\"\r\n",
        "  \t     #Skin Disease Classification\r\n",
        "         \"\"\"\r\n",
        ")\r\n",
        "\r\n",
        "file = st.file_uploader(\"Please upload an skin image\", type=[\"jpg\",\"png\"])\r\n",
        "\r\n",
        "import cv2\r\n",
        "from PIL import Image, ImageOps\r\n",
        "import numpy as np\r\n",
        "\r\n",
        "def import_and_predict(image_data,model):\r\n",
        "  \r\n",
        "  im1=image_data.convert('L')\r\n",
        "  im2 = ImageOps.equalize(im1,mask=None)\r\n",
        "  im3=im2.resize((256,256))\r\n",
        "  img = np.asarray(im3)/255\r\n",
        "  img_reshape = img.reshape(1,256,256,1)\r\n",
        "  prediction = model.predict(img_reshape)\r\n",
        "  # size = (256,256)\r\n",
        "  # image = ImageOps.fit(image_data, size, Image.ANTIALIAS)\r\n",
        "  # img = np.asarray(image)\r\n",
        "  # img_reshape = img[np.newaxis,...]\r\n",
        "  # prediction = model.predict(img_reshape)\r\n",
        "\r\n",
        "  return prediction\r\n",
        "\r\n",
        "if file is None:\r\n",
        "  st.text(\"Please upload an image file\")\r\n",
        "\r\n",
        "else:\r\n",
        "  image = Image.open(file)\r\n",
        "  st.image(image, use_column_width=True)\r\n",
        "  predictions = import_and_predict(image, model)\r\n",
        "  class_names = ['Lupus','Scalp','Ringworms']\r\n",
        "  string=\"This image is most likely\" + \" \" + class_names[np.argmax(predictions)]\r\n",
        "  st.success(string)\r\n",
        "\r\n",
        "  from twilio.rest import Client \r\n",
        " \r\n",
        "  account_sid = 'AC8027a41c6c24ff37e47538b2fbfebfc5' \r\n",
        "  auth_token = '1de8b50b1b5e4ba1df8b8c77f2d35045' \r\n",
        "  client = Client(account_sid, auth_token) \r\n",
        " \r\n",
        "  message = client.messages.create( \r\n",
        "                              from_='whatsapp:+14155238886',  \r\n",
        "                              body=string,      \r\n",
        "                              to='whatsapp:+919409644340'\r\n",
        "                            )\r\n",
        "  message = client.messages.create( \r\n",
        "                              from_='whatsapp:+14155238886',  \r\n",
        "                              body=string,      \r\n",
        "                              to='whatsapp:+919925510853'\r\n",
        "                            )  "
      ],
      "execution_count": 7,
      "outputs": [
        {
          "output_type": "stream",
          "text": [
            "Overwriting app.py\n"
          ],
          "name": "stdout"
        }
      ]
    },
    {
      "cell_type": "code",
      "metadata": {
        "colab": {
          "base_uri": "https://localhost:8080/"
        },
        "id": "oWHt64OX2_sQ",
        "outputId": "5e809b57-eee2-4cd1-d5ef-de801d192d85"
      },
      "source": [
        "pip install pyngrok==4.1.1"
      ],
      "execution_count": 3,
      "outputs": [
        {
          "output_type": "stream",
          "text": [
            "Collecting pyngrok==4.1.1\n",
            "  Downloading https://files.pythonhosted.org/packages/e4/a9/de2e15c92eb3aa4a2646ce3a7542317eb69ac47f667578ce8bf916320847/pyngrok-4.1.1.tar.gz\n",
            "Requirement already satisfied: future in /usr/local/lib/python3.7/dist-packages (from pyngrok==4.1.1) (0.16.0)\n",
            "Requirement already satisfied: PyYAML in /usr/local/lib/python3.7/dist-packages (from pyngrok==4.1.1) (3.13)\n",
            "Building wheels for collected packages: pyngrok\n",
            "  Building wheel for pyngrok (setup.py) ... \u001b[?25l\u001b[?25hdone\n",
            "  Created wheel for pyngrok: filename=pyngrok-4.1.1-cp37-none-any.whl size=15971 sha256=c465b03e460f11859e4e7caf19bf86c9295066b97523f2664cb5b74aa714a75d\n",
            "  Stored in directory: /root/.cache/pip/wheels/97/71/0d/1695f7c8815c0beb3b5d9b35d6eec9243c87e6070fbe3977fa\n",
            "Successfully built pyngrok\n",
            "Installing collected packages: pyngrok\n",
            "Successfully installed pyngrok-4.1.1\n"
          ],
          "name": "stdout"
        }
      ]
    },
    {
      "cell_type": "code",
      "metadata": {
        "id": "k_gV9On62tfw"
      },
      "source": [
        "from pyngrok import ngrok"
      ],
      "execution_count": 2,
      "outputs": []
    },
    {
      "cell_type": "code",
      "metadata": {
        "colab": {
          "base_uri": "https://localhost:8080/"
        },
        "id": "Sk7eRAnUzzJV",
        "outputId": "070a2650-4910-4c41-94a8-f990ba20dc79"
      },
      "source": [
        "!ngrok authtoken 1p3PCxnCKrvSgoC12sR0ShGl00c_441FGnpHQ9Vmbzvn91TBR"
      ],
      "execution_count": 3,
      "outputs": [
        {
          "output_type": "stream",
          "text": [
            "Authtoken saved to configuration file: /root/.ngrok2/ngrok.yml\n"
          ],
          "name": "stdout"
        }
      ]
    },
    {
      "cell_type": "code",
      "metadata": {
        "colab": {
          "base_uri": "https://localhost:8080/"
        },
        "id": "9DRFSkvl0HDP",
        "outputId": "6347cb17-f949-4b66-fbbb-9e95db5aba11"
      },
      "source": [
        "!nohup streamlit run app.py &"
      ],
      "execution_count": 4,
      "outputs": [
        {
          "output_type": "stream",
          "text": [
            "nohup: appending output to 'nohup.out'\n"
          ],
          "name": "stdout"
        }
      ]
    },
    {
      "cell_type": "code",
      "metadata": {
        "colab": {
          "base_uri": "https://localhost:8080/",
          "height": 35
        },
        "id": "PljLqFgQ0Oyj",
        "outputId": "a5117161-7fd6-47b6-a140-14bb8adbaa14"
      },
      "source": [
        "from pyngrok import ngrok\r\n",
        "\r\n",
        "url = ngrok.connect(port=8501)\r\n",
        "url"
      ],
      "execution_count": 5,
      "outputs": [
        {
          "output_type": "execute_result",
          "data": {
            "application/vnd.google.colaboratory.intrinsic+json": {
              "type": "string"
            },
            "text/plain": [
              "'http://df80d6cd8f0a.ngrok.io'"
            ]
          },
          "metadata": {
            "tags": []
          },
          "execution_count": 5
        }
      ]
    },
    {
      "cell_type": "code",
      "metadata": {
        "colab": {
          "base_uri": "https://localhost:8080/"
        },
        "id": "TwfCkli80Pqm",
        "outputId": "5190cfc3-9962-459a-cb98-57d73544a535"
      },
      "source": [
        "!cat nohup.out"
      ],
      "execution_count": null,
      "outputs": [
        {
          "output_type": "stream",
          "text": [
            "\n",
            "  You can now view your Streamlit app in your browser.\n",
            "\n",
            "  Network URL: http://172.28.0.2:8501\n",
            "  External URL: http://34.82.196.102:8501\n",
            "\n"
          ],
          "name": "stdout"
        }
      ]
    }
  ]
}